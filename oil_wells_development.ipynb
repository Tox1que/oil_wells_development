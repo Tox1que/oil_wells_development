{
 "cells": [
  {
   "cell_type": "markdown",
   "metadata": {
    "toc": true
   },
   "source": [
    "<h1>Содержание<span class=\"tocSkip\"></span></h1>\n",
    "<div class=\"toc\"><ul class=\"toc-item\"><li><span><a href=\"#Загрузка-и-подготовка-данных\" data-toc-modified-id=\"Загрузка-и-подготовка-данных-1\"><span class=\"toc-item-num\">1&nbsp;&nbsp;</span>Загрузка и подготовка данных</a></span></li><li><span><a href=\"#Обучение-и-проверка-модели\" data-toc-modified-id=\"Обучение-и-проверка-модели-2\"><span class=\"toc-item-num\">2&nbsp;&nbsp;</span>Обучение и проверка модели</a></span></li><li><span><a href=\"#Подготовка-к-расчёту-прибыли\" data-toc-modified-id=\"Подготовка-к-расчёту-прибыли-3\"><span class=\"toc-item-num\">3&nbsp;&nbsp;</span>Подготовка к расчёту прибыли</a></span></li><li><span><a href=\"#Расчёт-прибыли-и-рисков\" data-toc-modified-id=\"Расчёт-прибыли-и-рисков-4\"><span class=\"toc-item-num\">4&nbsp;&nbsp;</span>Расчёт прибыли и рисков</a></span></li><li><span><a href=\"#Общий-вывод\" data-toc-modified-id=\"Общий-вывод-5\"><span class=\"toc-item-num\">5&nbsp;&nbsp;</span>Общий вывод</a></span></li></ul></div>"
   ]
  },
  {
   "cell_type": "markdown",
   "metadata": {},
   "source": [
    "# Выбор локации для скважины"
   ]
  },
  {
   "cell_type": "markdown",
   "metadata": {},
   "source": [
    "Допустим, вы работаете в добывающей компании «ГлавРосГосНефть». Нужно решить, где бурить новую скважину.\n",
    "\n",
    "Вам предоставлены пробы нефти в трёх регионах: в каждом 10 000 месторождений, где измерили качество нефти и объём её запасов. Постройте модель машинного обучения, которая поможет определить регион, где добыча принесёт наибольшую прибыль. Проанализируйте возможную прибыль и риски техникой *Bootstrap.*\n",
    "\n",
    "Шаги для выбора локации:\n",
    "\n",
    "- В избранном регионе ищут месторождения, для каждого определяют значения признаков;\n",
    "- Строят модель и оценивают объём запасов;\n",
    "- Выбирают месторождения с самым высокими оценками значений. Количество месторождений зависит от бюджета компании и стоимости разработки одной скважины;\n",
    "- Прибыль равна суммарной прибыли отобранных месторождений."
   ]
  },
  {
   "cell_type": "markdown",
   "metadata": {},
   "source": [
    "## Загрузка и подготовка данных"
   ]
  },
  {
   "cell_type": "code",
   "execution_count": 1,
   "metadata": {},
   "outputs": [],
   "source": [
    "import os\n",
    "\n",
    "import matplotlib.patches as mpatches\n",
    "import matplotlib.pyplot as plt\n",
    "import numpy as np\n",
    "import pandas as pd\n",
    "import seaborn as sns\n",
    "from sklearn.linear_model import LinearRegression\n",
    "from sklearn.model_selection import KFold, cross_validate, train_test_split\n",
    "from sklearn.preprocessing import StandardScaler\n",
    "from sklearn.pipeline import make_pipeline\n",
    "\n",
    "SEED = 12345"
   ]
  },
  {
   "cell_type": "code",
   "execution_count": 2,
   "metadata": {},
   "outputs": [],
   "source": [
    "def get_df(file_name):\n",
    "    path_to_file = os.path.relpath(os.path.join('datasets/', file_name))\n",
    "    if os.path.isfile(path_to_file):\n",
    "        return pd.read_csv(path_to_file)\n",
    "    raise Exception('Данные отсутствуют')"
   ]
  },
  {
   "cell_type": "code",
   "execution_count": 3,
   "metadata": {},
   "outputs": [],
   "source": [
    "df_zero = get_df('geo_data_0.csv')\n",
    "df_one = get_df('geo_data_1.csv')\n",
    "df_two = get_df('geo_data_2.csv')\n",
    "\n",
    "dataframes = (df_zero, df_one, df_two)\n",
    "names = ('df_zero', 'df_one', 'df_two')\n",
    "for i in range(len(dataframes)):\n",
    "    dataframes[i].index.name = names[i]"
   ]
  },
  {
   "cell_type": "code",
   "execution_count": 4,
   "metadata": {},
   "outputs": [
    {
     "name": "stdout",
     "output_type": "stream",
     "text": [
      "<class 'pandas.core.frame.DataFrame'>\n",
      "RangeIndex: 100000 entries, 0 to 99999\n",
      "Data columns (total 5 columns):\n",
      " #   Column   Non-Null Count   Dtype  \n",
      "---  ------   --------------   -----  \n",
      " 0   id       100000 non-null  object \n",
      " 1   f0       100000 non-null  float64\n",
      " 2   f1       100000 non-null  float64\n",
      " 3   f2       100000 non-null  float64\n",
      " 4   product  100000 non-null  float64\n",
      "dtypes: float64(4), object(1)\n",
      "memory usage: 3.8+ MB\n"
     ]
    },
    {
     "data": {
      "text/html": [
       "<div>\n",
       "<style scoped>\n",
       "    .dataframe tbody tr th:only-of-type {\n",
       "        vertical-align: middle;\n",
       "    }\n",
       "\n",
       "    .dataframe tbody tr th {\n",
       "        vertical-align: top;\n",
       "    }\n",
       "\n",
       "    .dataframe thead th {\n",
       "        text-align: right;\n",
       "    }\n",
       "</style>\n",
       "<table border=\"1\" class=\"dataframe\">\n",
       "  <thead>\n",
       "    <tr style=\"text-align: right;\">\n",
       "      <th></th>\n",
       "      <th>id</th>\n",
       "      <th>f0</th>\n",
       "      <th>f1</th>\n",
       "      <th>f2</th>\n",
       "      <th>product</th>\n",
       "    </tr>\n",
       "    <tr>\n",
       "      <th>df_zero</th>\n",
       "      <th></th>\n",
       "      <th></th>\n",
       "      <th></th>\n",
       "      <th></th>\n",
       "      <th></th>\n",
       "    </tr>\n",
       "  </thead>\n",
       "  <tbody>\n",
       "    <tr>\n",
       "      <th>0</th>\n",
       "      <td>txEyH</td>\n",
       "      <td>0.705745</td>\n",
       "      <td>-0.497823</td>\n",
       "      <td>1.221170</td>\n",
       "      <td>105.280062</td>\n",
       "    </tr>\n",
       "    <tr>\n",
       "      <th>1</th>\n",
       "      <td>2acmU</td>\n",
       "      <td>1.334711</td>\n",
       "      <td>-0.340164</td>\n",
       "      <td>4.365080</td>\n",
       "      <td>73.037750</td>\n",
       "    </tr>\n",
       "    <tr>\n",
       "      <th>2</th>\n",
       "      <td>409Wp</td>\n",
       "      <td>1.022732</td>\n",
       "      <td>0.151990</td>\n",
       "      <td>1.419926</td>\n",
       "      <td>85.265647</td>\n",
       "    </tr>\n",
       "    <tr>\n",
       "      <th>3</th>\n",
       "      <td>iJLyR</td>\n",
       "      <td>-0.032172</td>\n",
       "      <td>0.139033</td>\n",
       "      <td>2.978566</td>\n",
       "      <td>168.620776</td>\n",
       "    </tr>\n",
       "    <tr>\n",
       "      <th>4</th>\n",
       "      <td>Xdl7t</td>\n",
       "      <td>1.988431</td>\n",
       "      <td>0.155413</td>\n",
       "      <td>4.751769</td>\n",
       "      <td>154.036647</td>\n",
       "    </tr>\n",
       "    <tr>\n",
       "      <th>5</th>\n",
       "      <td>wX4Hy</td>\n",
       "      <td>0.969570</td>\n",
       "      <td>0.489775</td>\n",
       "      <td>-0.735383</td>\n",
       "      <td>64.741541</td>\n",
       "    </tr>\n",
       "    <tr>\n",
       "      <th>6</th>\n",
       "      <td>tL6pL</td>\n",
       "      <td>0.645075</td>\n",
       "      <td>0.530656</td>\n",
       "      <td>1.780266</td>\n",
       "      <td>49.055285</td>\n",
       "    </tr>\n",
       "    <tr>\n",
       "      <th>7</th>\n",
       "      <td>BYPU6</td>\n",
       "      <td>-0.400648</td>\n",
       "      <td>0.808337</td>\n",
       "      <td>-5.624670</td>\n",
       "      <td>72.943292</td>\n",
       "    </tr>\n",
       "    <tr>\n",
       "      <th>8</th>\n",
       "      <td>j9Oui</td>\n",
       "      <td>0.643105</td>\n",
       "      <td>-0.551583</td>\n",
       "      <td>2.372141</td>\n",
       "      <td>113.356160</td>\n",
       "    </tr>\n",
       "    <tr>\n",
       "      <th>9</th>\n",
       "      <td>OLuZU</td>\n",
       "      <td>2.173381</td>\n",
       "      <td>0.563698</td>\n",
       "      <td>9.441852</td>\n",
       "      <td>127.910945</td>\n",
       "    </tr>\n",
       "  </tbody>\n",
       "</table>\n",
       "</div>"
      ],
      "text/plain": [
       "            id        f0        f1        f2     product\n",
       "df_zero                                                 \n",
       "0        txEyH  0.705745 -0.497823  1.221170  105.280062\n",
       "1        2acmU  1.334711 -0.340164  4.365080   73.037750\n",
       "2        409Wp  1.022732  0.151990  1.419926   85.265647\n",
       "3        iJLyR -0.032172  0.139033  2.978566  168.620776\n",
       "4        Xdl7t  1.988431  0.155413  4.751769  154.036647\n",
       "5        wX4Hy  0.969570  0.489775 -0.735383   64.741541\n",
       "6        tL6pL  0.645075  0.530656  1.780266   49.055285\n",
       "7        BYPU6 -0.400648  0.808337 -5.624670   72.943292\n",
       "8        j9Oui  0.643105 -0.551583  2.372141  113.356160\n",
       "9        OLuZU  2.173381  0.563698  9.441852  127.910945"
      ]
     },
     "metadata": {},
     "output_type": "display_data"
    },
    {
     "name": "stdout",
     "output_type": "stream",
     "text": [
      "<class 'pandas.core.frame.DataFrame'>\n",
      "RangeIndex: 100000 entries, 0 to 99999\n",
      "Data columns (total 5 columns):\n",
      " #   Column   Non-Null Count   Dtype  \n",
      "---  ------   --------------   -----  \n",
      " 0   id       100000 non-null  object \n",
      " 1   f0       100000 non-null  float64\n",
      " 2   f1       100000 non-null  float64\n",
      " 3   f2       100000 non-null  float64\n",
      " 4   product  100000 non-null  float64\n",
      "dtypes: float64(4), object(1)\n",
      "memory usage: 3.8+ MB\n"
     ]
    },
    {
     "data": {
      "text/html": [
       "<div>\n",
       "<style scoped>\n",
       "    .dataframe tbody tr th:only-of-type {\n",
       "        vertical-align: middle;\n",
       "    }\n",
       "\n",
       "    .dataframe tbody tr th {\n",
       "        vertical-align: top;\n",
       "    }\n",
       "\n",
       "    .dataframe thead th {\n",
       "        text-align: right;\n",
       "    }\n",
       "</style>\n",
       "<table border=\"1\" class=\"dataframe\">\n",
       "  <thead>\n",
       "    <tr style=\"text-align: right;\">\n",
       "      <th></th>\n",
       "      <th>id</th>\n",
       "      <th>f0</th>\n",
       "      <th>f1</th>\n",
       "      <th>f2</th>\n",
       "      <th>product</th>\n",
       "    </tr>\n",
       "    <tr>\n",
       "      <th>df_one</th>\n",
       "      <th></th>\n",
       "      <th></th>\n",
       "      <th></th>\n",
       "      <th></th>\n",
       "      <th></th>\n",
       "    </tr>\n",
       "  </thead>\n",
       "  <tbody>\n",
       "    <tr>\n",
       "      <th>0</th>\n",
       "      <td>kBEdx</td>\n",
       "      <td>-15.001348</td>\n",
       "      <td>-8.276000</td>\n",
       "      <td>-0.005876</td>\n",
       "      <td>3.179103</td>\n",
       "    </tr>\n",
       "    <tr>\n",
       "      <th>1</th>\n",
       "      <td>62mP7</td>\n",
       "      <td>14.272088</td>\n",
       "      <td>-3.475083</td>\n",
       "      <td>0.999183</td>\n",
       "      <td>26.953261</td>\n",
       "    </tr>\n",
       "    <tr>\n",
       "      <th>2</th>\n",
       "      <td>vyE1P</td>\n",
       "      <td>6.263187</td>\n",
       "      <td>-5.948386</td>\n",
       "      <td>5.001160</td>\n",
       "      <td>134.766305</td>\n",
       "    </tr>\n",
       "    <tr>\n",
       "      <th>3</th>\n",
       "      <td>KcrkZ</td>\n",
       "      <td>-13.081196</td>\n",
       "      <td>-11.506057</td>\n",
       "      <td>4.999415</td>\n",
       "      <td>137.945408</td>\n",
       "    </tr>\n",
       "    <tr>\n",
       "      <th>4</th>\n",
       "      <td>AHL4O</td>\n",
       "      <td>12.702195</td>\n",
       "      <td>-8.147433</td>\n",
       "      <td>5.004363</td>\n",
       "      <td>134.766305</td>\n",
       "    </tr>\n",
       "    <tr>\n",
       "      <th>5</th>\n",
       "      <td>HHckp</td>\n",
       "      <td>-3.327590</td>\n",
       "      <td>-2.205276</td>\n",
       "      <td>3.003647</td>\n",
       "      <td>84.038886</td>\n",
       "    </tr>\n",
       "    <tr>\n",
       "      <th>6</th>\n",
       "      <td>h5Ujo</td>\n",
       "      <td>-11.142655</td>\n",
       "      <td>-10.133399</td>\n",
       "      <td>4.002382</td>\n",
       "      <td>110.992147</td>\n",
       "    </tr>\n",
       "    <tr>\n",
       "      <th>7</th>\n",
       "      <td>muH9x</td>\n",
       "      <td>4.234715</td>\n",
       "      <td>-0.001354</td>\n",
       "      <td>2.004588</td>\n",
       "      <td>53.906522</td>\n",
       "    </tr>\n",
       "    <tr>\n",
       "      <th>8</th>\n",
       "      <td>YiRkx</td>\n",
       "      <td>13.355129</td>\n",
       "      <td>-0.332068</td>\n",
       "      <td>4.998647</td>\n",
       "      <td>134.766305</td>\n",
       "    </tr>\n",
       "    <tr>\n",
       "      <th>9</th>\n",
       "      <td>jG6Gi</td>\n",
       "      <td>1.069227</td>\n",
       "      <td>-11.025667</td>\n",
       "      <td>4.997844</td>\n",
       "      <td>137.945408</td>\n",
       "    </tr>\n",
       "  </tbody>\n",
       "</table>\n",
       "</div>"
      ],
      "text/plain": [
       "           id         f0         f1        f2     product\n",
       "df_one                                                   \n",
       "0       kBEdx -15.001348  -8.276000 -0.005876    3.179103\n",
       "1       62mP7  14.272088  -3.475083  0.999183   26.953261\n",
       "2       vyE1P   6.263187  -5.948386  5.001160  134.766305\n",
       "3       KcrkZ -13.081196 -11.506057  4.999415  137.945408\n",
       "4       AHL4O  12.702195  -8.147433  5.004363  134.766305\n",
       "5       HHckp  -3.327590  -2.205276  3.003647   84.038886\n",
       "6       h5Ujo -11.142655 -10.133399  4.002382  110.992147\n",
       "7       muH9x   4.234715  -0.001354  2.004588   53.906522\n",
       "8       YiRkx  13.355129  -0.332068  4.998647  134.766305\n",
       "9       jG6Gi   1.069227 -11.025667  4.997844  137.945408"
      ]
     },
     "metadata": {},
     "output_type": "display_data"
    },
    {
     "name": "stdout",
     "output_type": "stream",
     "text": [
      "<class 'pandas.core.frame.DataFrame'>\n",
      "RangeIndex: 100000 entries, 0 to 99999\n",
      "Data columns (total 5 columns):\n",
      " #   Column   Non-Null Count   Dtype  \n",
      "---  ------   --------------   -----  \n",
      " 0   id       100000 non-null  object \n",
      " 1   f0       100000 non-null  float64\n",
      " 2   f1       100000 non-null  float64\n",
      " 3   f2       100000 non-null  float64\n",
      " 4   product  100000 non-null  float64\n",
      "dtypes: float64(4), object(1)\n",
      "memory usage: 3.8+ MB\n"
     ]
    },
    {
     "data": {
      "text/html": [
       "<div>\n",
       "<style scoped>\n",
       "    .dataframe tbody tr th:only-of-type {\n",
       "        vertical-align: middle;\n",
       "    }\n",
       "\n",
       "    .dataframe tbody tr th {\n",
       "        vertical-align: top;\n",
       "    }\n",
       "\n",
       "    .dataframe thead th {\n",
       "        text-align: right;\n",
       "    }\n",
       "</style>\n",
       "<table border=\"1\" class=\"dataframe\">\n",
       "  <thead>\n",
       "    <tr style=\"text-align: right;\">\n",
       "      <th></th>\n",
       "      <th>id</th>\n",
       "      <th>f0</th>\n",
       "      <th>f1</th>\n",
       "      <th>f2</th>\n",
       "      <th>product</th>\n",
       "    </tr>\n",
       "    <tr>\n",
       "      <th>df_two</th>\n",
       "      <th></th>\n",
       "      <th></th>\n",
       "      <th></th>\n",
       "      <th></th>\n",
       "      <th></th>\n",
       "    </tr>\n",
       "  </thead>\n",
       "  <tbody>\n",
       "    <tr>\n",
       "      <th>0</th>\n",
       "      <td>fwXo0</td>\n",
       "      <td>-1.146987</td>\n",
       "      <td>0.963328</td>\n",
       "      <td>-0.828965</td>\n",
       "      <td>27.758673</td>\n",
       "    </tr>\n",
       "    <tr>\n",
       "      <th>1</th>\n",
       "      <td>WJtFt</td>\n",
       "      <td>0.262778</td>\n",
       "      <td>0.269839</td>\n",
       "      <td>-2.530187</td>\n",
       "      <td>56.069697</td>\n",
       "    </tr>\n",
       "    <tr>\n",
       "      <th>2</th>\n",
       "      <td>ovLUW</td>\n",
       "      <td>0.194587</td>\n",
       "      <td>0.289035</td>\n",
       "      <td>-5.586433</td>\n",
       "      <td>62.871910</td>\n",
       "    </tr>\n",
       "    <tr>\n",
       "      <th>3</th>\n",
       "      <td>q6cA6</td>\n",
       "      <td>2.236060</td>\n",
       "      <td>-0.553760</td>\n",
       "      <td>0.930038</td>\n",
       "      <td>114.572842</td>\n",
       "    </tr>\n",
       "    <tr>\n",
       "      <th>4</th>\n",
       "      <td>WPMUX</td>\n",
       "      <td>-0.515993</td>\n",
       "      <td>1.716266</td>\n",
       "      <td>5.899011</td>\n",
       "      <td>149.600746</td>\n",
       "    </tr>\n",
       "    <tr>\n",
       "      <th>5</th>\n",
       "      <td>LzZXx</td>\n",
       "      <td>-0.758092</td>\n",
       "      <td>0.710691</td>\n",
       "      <td>2.585887</td>\n",
       "      <td>90.222465</td>\n",
       "    </tr>\n",
       "    <tr>\n",
       "      <th>6</th>\n",
       "      <td>WBHRv</td>\n",
       "      <td>-0.574891</td>\n",
       "      <td>0.317727</td>\n",
       "      <td>1.773745</td>\n",
       "      <td>45.641478</td>\n",
       "    </tr>\n",
       "    <tr>\n",
       "      <th>7</th>\n",
       "      <td>XO8fn</td>\n",
       "      <td>-1.906649</td>\n",
       "      <td>-2.458350</td>\n",
       "      <td>-0.177097</td>\n",
       "      <td>72.480640</td>\n",
       "    </tr>\n",
       "    <tr>\n",
       "      <th>8</th>\n",
       "      <td>ybmQ5</td>\n",
       "      <td>1.776292</td>\n",
       "      <td>-0.279356</td>\n",
       "      <td>3.004156</td>\n",
       "      <td>106.616832</td>\n",
       "    </tr>\n",
       "    <tr>\n",
       "      <th>9</th>\n",
       "      <td>OilcN</td>\n",
       "      <td>-1.214452</td>\n",
       "      <td>-0.439314</td>\n",
       "      <td>5.922514</td>\n",
       "      <td>52.954532</td>\n",
       "    </tr>\n",
       "  </tbody>\n",
       "</table>\n",
       "</div>"
      ],
      "text/plain": [
       "           id        f0        f1        f2     product\n",
       "df_two                                                 \n",
       "0       fwXo0 -1.146987  0.963328 -0.828965   27.758673\n",
       "1       WJtFt  0.262778  0.269839 -2.530187   56.069697\n",
       "2       ovLUW  0.194587  0.289035 -5.586433   62.871910\n",
       "3       q6cA6  2.236060 -0.553760  0.930038  114.572842\n",
       "4       WPMUX -0.515993  1.716266  5.899011  149.600746\n",
       "5       LzZXx -0.758092  0.710691  2.585887   90.222465\n",
       "6       WBHRv -0.574891  0.317727  1.773745   45.641478\n",
       "7       XO8fn -1.906649 -2.458350 -0.177097   72.480640\n",
       "8       ybmQ5  1.776292 -0.279356  3.004156  106.616832\n",
       "9       OilcN -1.214452 -0.439314  5.922514   52.954532"
      ]
     },
     "metadata": {},
     "output_type": "display_data"
    }
   ],
   "source": [
    "for df in dataframes:\n",
    "    df.info()\n",
    "    display(df.head(10))"
   ]
  },
  {
   "cell_type": "code",
   "execution_count": 5,
   "metadata": {},
   "outputs": [
    {
     "data": {
      "image/png": "[encoded data removed]",
      "text/plain": [
       "<Figure size 1500x1000 with 12 Axes>"
      ]
     },
     "metadata": {},
     "output_type": "display_data"
    }
   ],
   "source": [
    "columns = df_zero.drop(['id'], axis=1).columns\n",
    "\n",
    "fig, axs = plt.subplots(3, 4, figsize=(15, 10))\n",
    "\n",
    "for i in range(len(dataframes)):\n",
    "    df = dataframes[i]\n",
    "    for j in reversed(range(len(columns))):\n",
    "        col = columns[j]\n",
    "        mean = df[col].mean()\n",
    "        median = df[col].median()\n",
    "\n",
    "        ax = axs[i][j]\n",
    "        sns.histplot(df[col], kde=True, ax=ax)\n",
    "        ax.set_title(f'{df.index.name}, {col}')\n",
    "        ax.axvline(x=median, c='r', label=f'Медиана')\n",
    "        ax.axvline(x=mean, c='r', ls='--', label=f'Среднее')\n",
    "\n",
    "plt.tight_layout()\n",
    "plt.legend(bbox_to_anchor=(-3.65, 3.9), fontsize=11)\n",
    "plt.show()"
   ]
  },
  {
   "cell_type": "code",
   "execution_count": 6,
   "metadata": {},
   "outputs": [
    {
     "name": "stdout",
     "output_type": "stream",
     "text": [
      "Явные дубликаты отсутствуют\n"
     ]
    }
   ],
   "source": [
    "duplicates = 0\n",
    "duplicated_ids = {name: 0 for name in names}\n",
    "\n",
    "for df in dataframes:\n",
    "    duplicates += df.duplicated().sum()\n",
    "    duplicated_ids[df.index.name] = df['id'].duplicated().sum()\n",
    "\n",
    "if duplicates:\n",
    "    print('Данные содержат явные дубликаты')\n",
    "else:\n",
    "    print('Явные дубликаты отсутствуют')"
   ]
  },
  {
   "cell_type": "code",
   "execution_count": 7,
   "metadata": {},
   "outputs": [
    {
     "name": "stdout",
     "output_type": "stream",
     "text": [
      " df_zero: 10 неуникальных id\n",
      " df_one: 4 неуникальных id\n",
      " df_two: 4 неуникальных id\n"
     ]
    }
   ],
   "source": [
    "for key, value in duplicated_ids.items():\n",
    "    print(f' {key}: {value} неуникальных id')"
   ]
  },
  {
   "cell_type": "markdown",
   "metadata": {},
   "source": [
    "Удалим неинформативный признак."
   ]
  },
  {
   "cell_type": "code",
   "execution_count": 8,
   "metadata": {},
   "outputs": [
    {
     "data": {
      "text/html": [
       "<div>\n",
       "<style scoped>\n",
       "    .dataframe tbody tr th:only-of-type {\n",
       "        vertical-align: middle;\n",
       "    }\n",
       "\n",
       "    .dataframe tbody tr th {\n",
       "        vertical-align: top;\n",
       "    }\n",
       "\n",
       "    .dataframe thead th {\n",
       "        text-align: right;\n",
       "    }\n",
       "</style>\n",
       "<table border=\"1\" class=\"dataframe\">\n",
       "  <thead>\n",
       "    <tr style=\"text-align: right;\">\n",
       "      <th></th>\n",
       "      <th>f0</th>\n",
       "      <th>f1</th>\n",
       "      <th>f2</th>\n",
       "      <th>product</th>\n",
       "    </tr>\n",
       "    <tr>\n",
       "      <th>df_zero</th>\n",
       "      <th></th>\n",
       "      <th></th>\n",
       "      <th></th>\n",
       "      <th></th>\n",
       "    </tr>\n",
       "  </thead>\n",
       "  <tbody>\n",
       "    <tr>\n",
       "      <th>0</th>\n",
       "      <td>0.705745</td>\n",
       "      <td>-0.497823</td>\n",
       "      <td>1.221170</td>\n",
       "      <td>105.280062</td>\n",
       "    </tr>\n",
       "    <tr>\n",
       "      <th>1</th>\n",
       "      <td>1.334711</td>\n",
       "      <td>-0.340164</td>\n",
       "      <td>4.365080</td>\n",
       "      <td>73.037750</td>\n",
       "    </tr>\n",
       "    <tr>\n",
       "      <th>2</th>\n",
       "      <td>1.022732</td>\n",
       "      <td>0.151990</td>\n",
       "      <td>1.419926</td>\n",
       "      <td>85.265647</td>\n",
       "    </tr>\n",
       "  </tbody>\n",
       "</table>\n",
       "</div>"
      ],
      "text/plain": [
       "               f0        f1        f2     product\n",
       "df_zero                                          \n",
       "0        0.705745 -0.497823  1.221170  105.280062\n",
       "1        1.334711 -0.340164  4.365080   73.037750\n",
       "2        1.022732  0.151990  1.419926   85.265647"
      ]
     },
     "metadata": {},
     "output_type": "display_data"
    },
    {
     "data": {
      "text/html": [
       "<div>\n",
       "<style scoped>\n",
       "    .dataframe tbody tr th:only-of-type {\n",
       "        vertical-align: middle;\n",
       "    }\n",
       "\n",
       "    .dataframe tbody tr th {\n",
       "        vertical-align: top;\n",
       "    }\n",
       "\n",
       "    .dataframe thead th {\n",
       "        text-align: right;\n",
       "    }\n",
       "</style>\n",
       "<table border=\"1\" class=\"dataframe\">\n",
       "  <thead>\n",
       "    <tr style=\"text-align: right;\">\n",
       "      <th></th>\n",
       "      <th>f0</th>\n",
       "      <th>f1</th>\n",
       "      <th>f2</th>\n",
       "      <th>product</th>\n",
       "    </tr>\n",
       "    <tr>\n",
       "      <th>df_one</th>\n",
       "      <th></th>\n",
       "      <th></th>\n",
       "      <th></th>\n",
       "      <th></th>\n",
       "    </tr>\n",
       "  </thead>\n",
       "  <tbody>\n",
       "    <tr>\n",
       "      <th>0</th>\n",
       "      <td>-15.001348</td>\n",
       "      <td>-8.276000</td>\n",
       "      <td>-0.005876</td>\n",
       "      <td>3.179103</td>\n",
       "    </tr>\n",
       "    <tr>\n",
       "      <th>1</th>\n",
       "      <td>14.272088</td>\n",
       "      <td>-3.475083</td>\n",
       "      <td>0.999183</td>\n",
       "      <td>26.953261</td>\n",
       "    </tr>\n",
       "    <tr>\n",
       "      <th>2</th>\n",
       "      <td>6.263187</td>\n",
       "      <td>-5.948386</td>\n",
       "      <td>5.001160</td>\n",
       "      <td>134.766305</td>\n",
       "    </tr>\n",
       "  </tbody>\n",
       "</table>\n",
       "</div>"
      ],
      "text/plain": [
       "               f0        f1        f2     product\n",
       "df_one                                           \n",
       "0      -15.001348 -8.276000 -0.005876    3.179103\n",
       "1       14.272088 -3.475083  0.999183   26.953261\n",
       "2        6.263187 -5.948386  5.001160  134.766305"
      ]
     },
     "metadata": {},
     "output_type": "display_data"
    },
    {
     "data": {
      "text/html": [
       "<div>\n",
       "<style scoped>\n",
       "    .dataframe tbody tr th:only-of-type {\n",
       "        vertical-align: middle;\n",
       "    }\n",
       "\n",
       "    .dataframe tbody tr th {\n",
       "        vertical-align: top;\n",
       "    }\n",
       "\n",
       "    .dataframe thead th {\n",
       "        text-align: right;\n",
       "    }\n",
       "</style>\n",
       "<table border=\"1\" class=\"dataframe\">\n",
       "  <thead>\n",
       "    <tr style=\"text-align: right;\">\n",
       "      <th></th>\n",
       "      <th>f0</th>\n",
       "      <th>f1</th>\n",
       "      <th>f2</th>\n",
       "      <th>product</th>\n",
       "    </tr>\n",
       "    <tr>\n",
       "      <th>df_two</th>\n",
       "      <th></th>\n",
       "      <th></th>\n",
       "      <th></th>\n",
       "      <th></th>\n",
       "    </tr>\n",
       "  </thead>\n",
       "  <tbody>\n",
       "    <tr>\n",
       "      <th>0</th>\n",
       "      <td>-1.146987</td>\n",
       "      <td>0.963328</td>\n",
       "      <td>-0.828965</td>\n",
       "      <td>27.758673</td>\n",
       "    </tr>\n",
       "    <tr>\n",
       "      <th>1</th>\n",
       "      <td>0.262778</td>\n",
       "      <td>0.269839</td>\n",
       "      <td>-2.530187</td>\n",
       "      <td>56.069697</td>\n",
       "    </tr>\n",
       "    <tr>\n",
       "      <th>2</th>\n",
       "      <td>0.194587</td>\n",
       "      <td>0.289035</td>\n",
       "      <td>-5.586433</td>\n",
       "      <td>62.871910</td>\n",
       "    </tr>\n",
       "  </tbody>\n",
       "</table>\n",
       "</div>"
      ],
      "text/plain": [
       "              f0        f1        f2    product\n",
       "df_two                                         \n",
       "0      -1.146987  0.963328 -0.828965  27.758673\n",
       "1       0.262778  0.269839 -2.530187  56.069697\n",
       "2       0.194587  0.289035 -5.586433  62.871910"
      ]
     },
     "metadata": {},
     "output_type": "display_data"
    }
   ],
   "source": [
    "df_zero = df_zero.drop(['id'], axis=1)\n",
    "df_one = df_one.drop(['id'], axis=1)\n",
    "df_two = df_two.drop(['id'], axis=1)\n",
    "\n",
    "display(df_zero.head(3), df_one.head(3), df_two.head(3))"
   ]
  },
  {
   "cell_type": "code",
   "execution_count": 9,
   "metadata": {
    "scrolled": false
   },
   "outputs": [
    {
     "data": {
      "image/png": "[encoded data removed]",
      "text/plain": [
       "<Figure size 900x300 with 6 Axes>"
      ]
     },
     "metadata": {},
     "output_type": "display_data"
    }
   ],
   "source": [
    "fig, axs = plt.subplots(1, 3, figsize=(9, 3))\n",
    "num_cols = df.columns[1:].tolist()\n",
    "\n",
    "for i in range(len(dataframes)):\n",
    "    df = dataframes[i]\n",
    "    ax = axs[i]\n",
    "    sns.heatmap(\n",
    "        df.corr(method='spearman', numeric_only=num_cols),\n",
    "        annot=True, fmt='.2f', ax=ax\n",
    "    )\n",
    "    ax.set_title(df.index.name)\n",
    "\n",
    "plt.tight_layout()\n",
    "plt.show()"
   ]
  },
  {
   "cell_type": "markdown",
   "metadata": {},
   "source": [
    "**Вывод:**  \n",
    "- полученные наборы данных состоят из 100 тысяч объектов каждый, содержат 5 числовых переменных;  \n",
    "- явные дубликаты, пропуски и выбросы отсутствуют;  \n",
    "- распределения признаков отличаются масштабом разброса значений;  \n",
    "- целевой признак первого региона имеет дискретное распределение;  \n",
    "- в первом регионе признак `f2` сильно коррелирует с целевым."
   ]
  },
  {
   "cell_type": "markdown",
   "metadata": {},
   "source": [
    "## Обучение и проверка модели"
   ]
  },
  {
   "cell_type": "code",
   "execution_count": 10,
   "metadata": {},
   "outputs": [],
   "source": [
    "scores = {df.index.name: [] for df in dataframes}\n",
    "\n",
    "def get_features_target(df):\n",
    "    features = df.drop('product', axis=1)\n",
    "    target = df['product']\n",
    "    return features, target\n",
    "\n",
    "\n",
    "def get_rmse_r2(features, target):\n",
    "    regressor = LinearRegression()\n",
    "    regressor = make_pipeline(StandardScaler(), regressor)\n",
    "    result = cross_validate(\n",
    "        regressor, features, target, n_jobs=-1,\n",
    "        cv=KFold(5, random_state=SEED, shuffle=True),\n",
    "        scoring=['neg_mean_absolute_error', 'neg_root_mean_squared_error',\n",
    "                 'r2']\n",
    "    )\n",
    "    return (\n",
    "        -result['test_neg_mean_absolute_error'].mean(),\n",
    "        -result['test_neg_root_mean_squared_error'].mean(),\n",
    "        result['test_r2'].mean()\n",
    "    )\n",
    "\n",
    "\n",
    "def get_predictions(features, target):\n",
    "    features_train, features_valid, target_train, target_valid = \\\n",
    "        train_test_split(features, target,\n",
    "                         test_size=.25, random_state=SEED)\n",
    "\n",
    "    print(features_train.shape[0] == target_train.shape[0])\n",
    "    print(features_valid.shape[0] == target_valid.shape[0])\n",
    "    print(f'Размер обучающей выборки: {features_train.shape[0]}')\n",
    "    print(f'Размер валидационной выборки: {features_valid.shape[0]}')\n",
    "\n",
    "    regressor = LinearRegression()\n",
    "    regressor = make_pipeline(StandardScaler(), regressor)\n",
    "    regressor.fit(features_train, target_train)\n",
    "\n",
    "    predicted = regressor.predict(features_valid)\n",
    "    features_valid = features_valid.copy()\n",
    "    features_valid['target'] = target_valid\n",
    "    features_valid['predicted'] = predicted\n",
    "    return features_valid"
   ]
  },
  {
   "cell_type": "markdown",
   "metadata": {},
   "source": [
    "**Регион 0**"
   ]
  },
  {
   "cell_type": "code",
   "execution_count": 11,
   "metadata": {},
   "outputs": [
    {
     "name": "stdout",
     "output_type": "stream",
     "text": [
      "mae = 31.04\n",
      "rmse = 37.69\n",
      "r2 = 0.28\n",
      "\n",
      "True\n",
      "True\n",
      "Размер обучающей выборки: 75000\n",
      "Размер валидационной выборки: 25000\n",
      "Средний объём запасов в нулевом регионе: 92 тыс. баррелей\n",
      "Средний объём предсказанных запасов в нулевом регионе: 93 тыс. баррелей\n"
     ]
    },
    {
     "data": {
      "text/html": [
       "<div>\n",
       "<style scoped>\n",
       "    .dataframe tbody tr th:only-of-type {\n",
       "        vertical-align: middle;\n",
       "    }\n",
       "\n",
       "    .dataframe tbody tr th {\n",
       "        vertical-align: top;\n",
       "    }\n",
       "\n",
       "    .dataframe thead th {\n",
       "        text-align: right;\n",
       "    }\n",
       "</style>\n",
       "<table border=\"1\" class=\"dataframe\">\n",
       "  <thead>\n",
       "    <tr style=\"text-align: right;\">\n",
       "      <th></th>\n",
       "      <th>f0</th>\n",
       "      <th>f1</th>\n",
       "      <th>f2</th>\n",
       "      <th>target</th>\n",
       "      <th>predicted</th>\n",
       "    </tr>\n",
       "    <tr>\n",
       "      <th>df_zero</th>\n",
       "      <th></th>\n",
       "      <th></th>\n",
       "      <th></th>\n",
       "      <th></th>\n",
       "      <th></th>\n",
       "    </tr>\n",
       "  </thead>\n",
       "  <tbody>\n",
       "    <tr>\n",
       "      <th>10405</th>\n",
       "      <td>0.185313</td>\n",
       "      <td>0.915272</td>\n",
       "      <td>3.475812</td>\n",
       "      <td>100.791787</td>\n",
       "      <td>88.535670</td>\n",
       "    </tr>\n",
       "    <tr>\n",
       "      <th>68773</th>\n",
       "      <td>-0.919709</td>\n",
       "      <td>0.602924</td>\n",
       "      <td>-0.479584</td>\n",
       "      <td>37.739874</td>\n",
       "      <td>62.890419</td>\n",
       "    </tr>\n",
       "    <tr>\n",
       "      <th>64554</th>\n",
       "      <td>1.060677</td>\n",
       "      <td>0.319235</td>\n",
       "      <td>-1.619824</td>\n",
       "      <td>119.478837</td>\n",
       "      <td>66.487204</td>\n",
       "    </tr>\n",
       "    <tr>\n",
       "      <th>10796</th>\n",
       "      <td>0.139742</td>\n",
       "      <td>0.461999</td>\n",
       "      <td>3.047643</td>\n",
       "      <td>144.920421</td>\n",
       "      <td>91.939168</td>\n",
       "    </tr>\n",
       "    <tr>\n",
       "      <th>14065</th>\n",
       "      <td>-0.390148</td>\n",
       "      <td>0.957715</td>\n",
       "      <td>-0.062643</td>\n",
       "      <td>40.616249</td>\n",
       "      <td>62.540157</td>\n",
       "    </tr>\n",
       "    <tr>\n",
       "      <th>69885</th>\n",
       "      <td>0.765742</td>\n",
       "      <td>-0.522480</td>\n",
       "      <td>5.000020</td>\n",
       "      <td>123.891845</td>\n",
       "      <td>120.939734</td>\n",
       "    </tr>\n",
       "    <tr>\n",
       "      <th>47717</th>\n",
       "      <td>1.373199</td>\n",
       "      <td>-0.441246</td>\n",
       "      <td>0.042717</td>\n",
       "      <td>102.638442</td>\n",
       "      <td>89.292658</td>\n",
       "    </tr>\n",
       "    <tr>\n",
       "      <th>48507</th>\n",
       "      <td>0.129963</td>\n",
       "      <td>-0.213482</td>\n",
       "      <td>-2.051937</td>\n",
       "      <td>63.628131</td>\n",
       "      <td>67.804548</td>\n",
       "    </tr>\n",
       "    <tr>\n",
       "      <th>55986</th>\n",
       "      <td>2.012017</td>\n",
       "      <td>0.500107</td>\n",
       "      <td>-0.403480</td>\n",
       "      <td>105.464626</td>\n",
       "      <td>75.374812</td>\n",
       "    </tr>\n",
       "    <tr>\n",
       "      <th>79165</th>\n",
       "      <td>-0.919062</td>\n",
       "      <td>0.334193</td>\n",
       "      <td>2.005019</td>\n",
       "      <td>58.923023</td>\n",
       "      <td>83.062699</td>\n",
       "    </tr>\n",
       "  </tbody>\n",
       "</table>\n",
       "</div>"
      ],
      "text/plain": [
       "               f0        f1        f2      target   predicted\n",
       "df_zero                                                      \n",
       "10405    0.185313  0.915272  3.475812  100.791787   88.535670\n",
       "68773   -0.919709  0.602924 -0.479584   37.739874   62.890419\n",
       "64554    1.060677  0.319235 -1.619824  119.478837   66.487204\n",
       "10796    0.139742  0.461999  3.047643  144.920421   91.939168\n",
       "14065   -0.390148  0.957715 -0.062643   40.616249   62.540157\n",
       "69885    0.765742 -0.522480  5.000020  123.891845  120.939734\n",
       "47717    1.373199 -0.441246  0.042717  102.638442   89.292658\n",
       "48507    0.129963 -0.213482 -2.051937   63.628131   67.804548\n",
       "55986    2.012017  0.500107 -0.403480  105.464626   75.374812\n",
       "79165   -0.919062  0.334193  2.005019   58.923023   83.062699"
      ]
     },
     "execution_count": 11,
     "metadata": {},
     "output_type": "execute_result"
    }
   ],
   "source": [
    "features, target = get_features_target(df_zero)\n",
    "\n",
    "zero_mae, zero_rmse, zero_r2 = get_rmse_r2(features, target)\n",
    "\n",
    "print(f'mae = {zero_mae:.2f}\\nrmse = {zero_rmse:.2f}\\nr2 = {zero_r2:.2f}\\n')\n",
    "\n",
    "zero_valid = get_predictions(features, target)\n",
    "zero_target_mean = zero_valid['target'].mean()\n",
    "zero_predicted_mean = zero_valid['predicted'].mean()\n",
    "\n",
    "scores['df_zero'].extend([zero_mae, zero_rmse, zero_r2, zero_target_mean,\n",
    "                          zero_predicted_mean])\n",
    "\n",
    "print('Средний объём запасов в нулевом регионе: '\n",
    "      f'{zero_target_mean:.0f} тыс. баррелей')\n",
    "print('Средний объём предсказанных запасов в нулевом регионе: '\n",
    "      f'{zero_predicted_mean:.0f} тыс. баррелей')\n",
    "\n",
    "zero_valid.sample(10)"
   ]
  },
  {
   "cell_type": "markdown",
   "metadata": {},
   "source": [
    "**Регион 1**"
   ]
  },
  {
   "cell_type": "code",
   "execution_count": 12,
   "metadata": {},
   "outputs": [
    {
     "name": "stdout",
     "output_type": "stream",
     "text": [
      "mae = 0.72\n",
      "rmse = 0.89\n",
      "r2 = 1.00\n",
      "\n",
      "True\n",
      "True\n",
      "Размер обучающей выборки: 75000\n",
      "Размер валидационной выборки: 25000\n",
      "Средний объём запасов в первом регионе: 69 тыс. баррелей\n",
      "Средний объём предсказанных запасов в первом регионе: 69 тыс. баррелей\n"
     ]
    },
    {
     "data": {
      "text/html": [
       "<div>\n",
       "<style scoped>\n",
       "    .dataframe tbody tr th:only-of-type {\n",
       "        vertical-align: middle;\n",
       "    }\n",
       "\n",
       "    .dataframe tbody tr th {\n",
       "        vertical-align: top;\n",
       "    }\n",
       "\n",
       "    .dataframe thead th {\n",
       "        text-align: right;\n",
       "    }\n",
       "</style>\n",
       "<table border=\"1\" class=\"dataframe\">\n",
       "  <thead>\n",
       "    <tr style=\"text-align: right;\">\n",
       "      <th></th>\n",
       "      <th>f0</th>\n",
       "      <th>f1</th>\n",
       "      <th>f2</th>\n",
       "      <th>target</th>\n",
       "      <th>predicted</th>\n",
       "    </tr>\n",
       "    <tr>\n",
       "      <th>df_one</th>\n",
       "      <th></th>\n",
       "      <th></th>\n",
       "      <th></th>\n",
       "      <th></th>\n",
       "      <th></th>\n",
       "    </tr>\n",
       "  </thead>\n",
       "  <tbody>\n",
       "    <tr>\n",
       "      <th>58945</th>\n",
       "      <td>-6.061565</td>\n",
       "      <td>-9.583229</td>\n",
       "      <td>-0.006708</td>\n",
       "      <td>3.179103</td>\n",
       "      <td>2.564164</td>\n",
       "    </tr>\n",
       "    <tr>\n",
       "      <th>15042</th>\n",
       "      <td>2.029427</td>\n",
       "      <td>-0.445516</td>\n",
       "      <td>1.999416</td>\n",
       "      <td>53.906522</td>\n",
       "      <td>55.257576</td>\n",
       "    </tr>\n",
       "    <tr>\n",
       "      <th>65918</th>\n",
       "      <td>-6.776420</td>\n",
       "      <td>-6.638120</td>\n",
       "      <td>4.006992</td>\n",
       "      <td>110.992147</td>\n",
       "      <td>110.776851</td>\n",
       "    </tr>\n",
       "    <tr>\n",
       "      <th>47296</th>\n",
       "      <td>8.875019</td>\n",
       "      <td>3.476555</td>\n",
       "      <td>4.999098</td>\n",
       "      <td>134.766305</td>\n",
       "      <td>135.023932</td>\n",
       "    </tr>\n",
       "    <tr>\n",
       "      <th>29918</th>\n",
       "      <td>13.721828</td>\n",
       "      <td>-4.325625</td>\n",
       "      <td>3.002226</td>\n",
       "      <td>80.859783</td>\n",
       "      <td>80.675243</td>\n",
       "    </tr>\n",
       "    <tr>\n",
       "      <th>45309</th>\n",
       "      <td>16.741336</td>\n",
       "      <td>-7.436973</td>\n",
       "      <td>3.000987</td>\n",
       "      <td>80.859783</td>\n",
       "      <td>80.272743</td>\n",
       "    </tr>\n",
       "    <tr>\n",
       "      <th>53273</th>\n",
       "      <td>6.720326</td>\n",
       "      <td>-2.845895</td>\n",
       "      <td>4.996097</td>\n",
       "      <td>134.766305</td>\n",
       "      <td>135.394639</td>\n",
       "    </tr>\n",
       "    <tr>\n",
       "      <th>4020</th>\n",
       "      <td>7.032295</td>\n",
       "      <td>-9.003062</td>\n",
       "      <td>2.002729</td>\n",
       "      <td>53.906522</td>\n",
       "      <td>54.810255</td>\n",
       "    </tr>\n",
       "    <tr>\n",
       "      <th>367</th>\n",
       "      <td>14.845670</td>\n",
       "      <td>-1.715400</td>\n",
       "      <td>-0.006900</td>\n",
       "      <td>0.000000</td>\n",
       "      <td>-0.644639</td>\n",
       "    </tr>\n",
       "    <tr>\n",
       "      <th>68520</th>\n",
       "      <td>8.649066</td>\n",
       "      <td>-0.446072</td>\n",
       "      <td>1.005981</td>\n",
       "      <td>26.953261</td>\n",
       "      <td>27.523877</td>\n",
       "    </tr>\n",
       "  </tbody>\n",
       "</table>\n",
       "</div>"
      ],
      "text/plain": [
       "               f0        f1        f2      target   predicted\n",
       "df_one                                                       \n",
       "58945   -6.061565 -9.583229 -0.006708    3.179103    2.564164\n",
       "15042    2.029427 -0.445516  1.999416   53.906522   55.257576\n",
       "65918   -6.776420 -6.638120  4.006992  110.992147  110.776851\n",
       "47296    8.875019  3.476555  4.999098  134.766305  135.023932\n",
       "29918   13.721828 -4.325625  3.002226   80.859783   80.675243\n",
       "45309   16.741336 -7.436973  3.000987   80.859783   80.272743\n",
       "53273    6.720326 -2.845895  4.996097  134.766305  135.394639\n",
       "4020     7.032295 -9.003062  2.002729   53.906522   54.810255\n",
       "367     14.845670 -1.715400 -0.006900    0.000000   -0.644639\n",
       "68520    8.649066 -0.446072  1.005981   26.953261   27.523877"
      ]
     },
     "execution_count": 12,
     "metadata": {},
     "output_type": "execute_result"
    }
   ],
   "source": [
    "features, target = get_features_target(df_one)\n",
    "\n",
    "one_mae, one_rmse, one_r2 = get_rmse_r2(features, target)\n",
    "print(f'mae = {one_mae:.2f}\\nrmse = {one_rmse:.2f}\\nr2 = {one_r2:.2f}\\n')\n",
    "\n",
    "one_valid = get_predictions(features, target)\n",
    "one_target_mean = one_valid['target'].mean()\n",
    "one_predicted_mean = one_valid['predicted'].mean()\n",
    "\n",
    "scores['df_one'].extend([one_mae, one_rmse, one_r2, one_target_mean,\n",
    "                         one_predicted_mean])\n",
    "\n",
    "print('Средний объём запасов в первом регионе: '\n",
    "      f'{one_target_mean:.0f} тыс. баррелей')\n",
    "print('Средний объём предсказанных запасов в первом регионе: '\n",
    "      f'{one_predicted_mean:.0f} тыс. баррелей')\n",
    "\n",
    "one_valid.sample(10)"
   ]
  },
  {
   "cell_type": "markdown",
   "metadata": {},
   "source": [
    "**Регион 2**"
   ]
  },
  {
   "cell_type": "code",
   "execution_count": 13,
   "metadata": {},
   "outputs": [
    {
     "name": "stdout",
     "output_type": "stream",
     "text": [
      "mae = 32.82\n",
      "rmse = 40.06\n",
      "r2 = 0.20\n",
      "\n",
      "True\n",
      "True\n",
      "Размер обучающей выборки: 75000\n",
      "Размер валидационной выборки: 25000\n",
      "Средний объём запасов во втором регионе: 95 тыс. баррелей\n",
      "Средний объём предсказанных запасов во втором регионе: 95 тыс. баррелей\n"
     ]
    },
    {
     "data": {
      "text/html": [
       "<div>\n",
       "<style scoped>\n",
       "    .dataframe tbody tr th:only-of-type {\n",
       "        vertical-align: middle;\n",
       "    }\n",
       "\n",
       "    .dataframe tbody tr th {\n",
       "        vertical-align: top;\n",
       "    }\n",
       "\n",
       "    .dataframe thead th {\n",
       "        text-align: right;\n",
       "    }\n",
       "</style>\n",
       "<table border=\"1\" class=\"dataframe\">\n",
       "  <thead>\n",
       "    <tr style=\"text-align: right;\">\n",
       "      <th></th>\n",
       "      <th>f0</th>\n",
       "      <th>f1</th>\n",
       "      <th>f2</th>\n",
       "      <th>target</th>\n",
       "      <th>predicted</th>\n",
       "    </tr>\n",
       "    <tr>\n",
       "      <th>df_two</th>\n",
       "      <th></th>\n",
       "      <th></th>\n",
       "      <th></th>\n",
       "      <th></th>\n",
       "      <th></th>\n",
       "    </tr>\n",
       "  </thead>\n",
       "  <tbody>\n",
       "    <tr>\n",
       "      <th>13290</th>\n",
       "      <td>0.488953</td>\n",
       "      <td>1.904304</td>\n",
       "      <td>1.792691</td>\n",
       "      <td>80.484523</td>\n",
       "      <td>90.945546</td>\n",
       "    </tr>\n",
       "    <tr>\n",
       "      <th>29137</th>\n",
       "      <td>-2.071298</td>\n",
       "      <td>0.186776</td>\n",
       "      <td>0.297251</td>\n",
       "      <td>62.408291</td>\n",
       "      <td>82.401482</td>\n",
       "    </tr>\n",
       "    <tr>\n",
       "      <th>58897</th>\n",
       "      <td>-1.355386</td>\n",
       "      <td>0.616199</td>\n",
       "      <td>5.070255</td>\n",
       "      <td>84.745823</td>\n",
       "      <td>109.652544</td>\n",
       "    </tr>\n",
       "    <tr>\n",
       "      <th>94510</th>\n",
       "      <td>2.280374</td>\n",
       "      <td>3.516090</td>\n",
       "      <td>2.491371</td>\n",
       "      <td>108.440411</td>\n",
       "      <td>94.921911</td>\n",
       "    </tr>\n",
       "    <tr>\n",
       "      <th>1165</th>\n",
       "      <td>1.680063</td>\n",
       "      <td>-1.243627</td>\n",
       "      <td>4.309381</td>\n",
       "      <td>84.802815</td>\n",
       "      <td>105.480847</td>\n",
       "    </tr>\n",
       "    <tr>\n",
       "      <th>33835</th>\n",
       "      <td>0.979922</td>\n",
       "      <td>-2.956279</td>\n",
       "      <td>0.591042</td>\n",
       "      <td>136.392163</td>\n",
       "      <td>84.304616</td>\n",
       "    </tr>\n",
       "    <tr>\n",
       "      <th>12747</th>\n",
       "      <td>2.724216</td>\n",
       "      <td>2.109052</td>\n",
       "      <td>7.154024</td>\n",
       "      <td>82.303546</td>\n",
       "      <td>121.611518</td>\n",
       "    </tr>\n",
       "    <tr>\n",
       "      <th>45485</th>\n",
       "      <td>-0.443252</td>\n",
       "      <td>-0.857305</td>\n",
       "      <td>4.750445</td>\n",
       "      <td>61.667071</td>\n",
       "      <td>107.916821</td>\n",
       "    </tr>\n",
       "    <tr>\n",
       "      <th>21990</th>\n",
       "      <td>-1.699660</td>\n",
       "      <td>1.337224</td>\n",
       "      <td>2.072503</td>\n",
       "      <td>129.203418</td>\n",
       "      <td>92.498903</td>\n",
       "    </tr>\n",
       "    <tr>\n",
       "      <th>24113</th>\n",
       "      <td>-1.303936</td>\n",
       "      <td>-0.736768</td>\n",
       "      <td>0.364138</td>\n",
       "      <td>40.544441</td>\n",
       "      <td>82.845726</td>\n",
       "    </tr>\n",
       "  </tbody>\n",
       "</table>\n",
       "</div>"
      ],
      "text/plain": [
       "              f0        f1        f2      target   predicted\n",
       "df_two                                                      \n",
       "13290   0.488953  1.904304  1.792691   80.484523   90.945546\n",
       "29137  -2.071298  0.186776  0.297251   62.408291   82.401482\n",
       "58897  -1.355386  0.616199  5.070255   84.745823  109.652544\n",
       "94510   2.280374  3.516090  2.491371  108.440411   94.921911\n",
       "1165    1.680063 -1.243627  4.309381   84.802815  105.480847\n",
       "33835   0.979922 -2.956279  0.591042  136.392163   84.304616\n",
       "12747   2.724216  2.109052  7.154024   82.303546  121.611518\n",
       "45485  -0.443252 -0.857305  4.750445   61.667071  107.916821\n",
       "21990  -1.699660  1.337224  2.072503  129.203418   92.498903\n",
       "24113  -1.303936 -0.736768  0.364138   40.544441   82.845726"
      ]
     },
     "execution_count": 13,
     "metadata": {},
     "output_type": "execute_result"
    }
   ],
   "source": [
    "features, target = get_features_target(df_two)\n",
    "\n",
    "two_mae, two_rmse, two_r2 = get_rmse_r2(features, target)\n",
    "print(f'mae = {two_mae:.2f}\\nrmse = {two_rmse:.2f}\\nr2 = {two_r2:.2f}\\n')\n",
    "\n",
    "two_valid = get_predictions(features, target)\n",
    "two_target_mean = two_valid['target'].mean()\n",
    "two_predicted_mean = two_valid['predicted'].mean()\n",
    "\n",
    "scores['df_two'].extend([two_mae, two_rmse, two_r2, two_target_mean,\n",
    "                         two_predicted_mean])\n",
    "\n",
    "print('Средний объём запасов во втором регионе: '\n",
    "      f'{two_target_mean:.0f} тыс. баррелей')\n",
    "print('Средний объём предсказанных запасов во втором регионе: '\n",
    "      f'{two_predicted_mean:.0f} тыс. баррелей')\n",
    "\n",
    "two_valid.sample(10)"
   ]
  },
  {
   "cell_type": "code",
   "execution_count": 14,
   "metadata": {},
   "outputs": [
    {
     "data": {
      "text/html": [
       "<div>\n",
       "<style scoped>\n",
       "    .dataframe tbody tr th:only-of-type {\n",
       "        vertical-align: middle;\n",
       "    }\n",
       "\n",
       "    .dataframe tbody tr th {\n",
       "        vertical-align: top;\n",
       "    }\n",
       "\n",
       "    .dataframe thead th {\n",
       "        text-align: right;\n",
       "    }\n",
       "</style>\n",
       "<table border=\"1\" class=\"dataframe\">\n",
       "  <thead>\n",
       "    <tr style=\"text-align: right;\">\n",
       "      <th></th>\n",
       "      <th>mae</th>\n",
       "      <th>rmse</th>\n",
       "      <th>r2</th>\n",
       "      <th>target_mean</th>\n",
       "      <th>predicted_mean</th>\n",
       "    </tr>\n",
       "  </thead>\n",
       "  <tbody>\n",
       "    <tr>\n",
       "      <th>df_zero</th>\n",
       "      <td>31.038538</td>\n",
       "      <td>37.693547</td>\n",
       "      <td>0.275597</td>\n",
       "      <td>92.078597</td>\n",
       "      <td>92.592568</td>\n",
       "    </tr>\n",
       "    <tr>\n",
       "      <th>df_one</th>\n",
       "      <td>0.717419</td>\n",
       "      <td>0.890411</td>\n",
       "      <td>0.999624</td>\n",
       "      <td>68.723136</td>\n",
       "      <td>68.728547</td>\n",
       "    </tr>\n",
       "    <tr>\n",
       "      <th>df_two</th>\n",
       "      <td>32.822028</td>\n",
       "      <td>40.057170</td>\n",
       "      <td>0.198676</td>\n",
       "      <td>94.884233</td>\n",
       "      <td>94.965046</td>\n",
       "    </tr>\n",
       "  </tbody>\n",
       "</table>\n",
       "</div>"
      ],
      "text/plain": [
       "               mae       rmse        r2  target_mean  predicted_mean\n",
       "df_zero  31.038538  37.693547  0.275597    92.078597       92.592568\n",
       "df_one    0.717419   0.890411  0.999624    68.723136       68.728547\n",
       "df_two   32.822028  40.057170  0.198676    94.884233       94.965046"
      ]
     },
     "execution_count": 14,
     "metadata": {},
     "output_type": "execute_result"
    }
   ],
   "source": [
    "scores = pd.DataFrame(\n",
    "    scores.values(), index=scores.keys(),\n",
    "    columns=['mae', 'rmse', 'r2', 'target_mean', 'predicted_mean']\n",
    ")\n",
    "scores"
   ]
  },
  {
   "cell_type": "markdown",
   "metadata": {},
   "source": [
    "**Вывод:**  \n",
    "- в нулевом и втором регионе средние запасы сырья значительно выше, чем в первом;  \n",
    "- вероятно, вследствие высокой корреляции между `f2` и целевым признаком модель наиболее точно предсказывает запасы в первом регионе."
   ]
  },
  {
   "cell_type": "markdown",
   "metadata": {},
   "source": [
    "## Подготовка к расчёту прибыли"
   ]
  },
  {
   "cell_type": "code",
   "execution_count": 15,
   "metadata": {},
   "outputs": [
    {
     "name": "stdout",
     "output_type": "stream",
     "text": [
      "Точка безубыточности: 111 тыс. баррелей\n",
      "\n",
      "Средний объём запасов в нулевом регионе: 92 тыс. баррелей\n",
      "Средний объём запасов в первом регионе: 69 тыс. баррелей\n",
      "Средний объём запасов во втором регионе: 95 тыс. баррелей\n"
     ]
    }
   ],
   "source": [
    "BUDGET = 10e9\n",
    "SUBSAMPLE_SIZE = 500\n",
    "COUNT = 200\n",
    "BUDGET_PER_WELL = BUDGET / COUNT\n",
    "REVENUE = 4.5e5\n",
    "LIMIT = BUDGET_PER_WELL / REVENUE\n",
    "\n",
    "print(f'Точка безубыточности: {LIMIT:.0F} тыс. баррелей\\n')\n",
    "print('Средний объём запасов в нулевом регионе: '\n",
    "      f'{zero_valid[\"target\"].mean():.0f} тыс. баррелей')\n",
    "print('Средний объём запасов в первом регионе: '\n",
    "      f'{one_valid[\"target\"].mean():.0f} тыс. баррелей')\n",
    "print('Средний объём запасов во втором регионе: '\n",
    "      f'{two_valid[\"target\"].mean():.0f} тыс. баррелей')"
   ]
  },
  {
   "cell_type": "markdown",
   "metadata": {},
   "source": [
    "**Вывод:**  средний объём запасов в скважине по всем регионам ниже необходимого для безубыточной разработки. "
   ]
  },
  {
   "cell_type": "markdown",
   "metadata": {},
   "source": [
    "## Расчёт прибыли и рисков "
   ]
  },
  {
   "cell_type": "code",
   "execution_count": 16,
   "metadata": {},
   "outputs": [],
   "source": [
    "def get_profit(target, predictions, budget, rev, count):\n",
    "    pred_sorted = predictions.sort_values(ascending=False)\n",
    "    selected = target[pred_sorted.index][:200]\n",
    "    profit = selected.sum() * rev - budget\n",
    "    return profit\n",
    "\n",
    "\n",
    "def bootstrap(target, predictions, size=SUBSAMPLE_SIZE,\n",
    "              budget=BUDGET, rev=REVENUE, count=COUNT):\n",
    "    values = []\n",
    "    state = np.random.RandomState(12345)\n",
    "    for i in range(1000):\n",
    "        target_subsample = target.sample(n=size, random_state=state,\n",
    "                                         replace=True)\n",
    "        predictions_subsample = predictions[target_subsample.index]\n",
    "        values.append(get_profit(target_subsample, predictions_subsample,\n",
    "                                 budget, rev, count))\n",
    "\n",
    "    values = pd.Series(values)\n",
    "    lower = values.quantile(0.025)\n",
    "    upper = values.quantile(0.975)\n",
    "\n",
    "    mean = values.mean()\n",
    "    print(f'Средняя прибыль: {mean:,.0f}'.replace(',', ' '))\n",
    "    print(f'2.5%-квантиль: {lower:,.0f}'.replace(',', ' '))\n",
    "    return lower, upper, values"
   ]
  },
  {
   "cell_type": "markdown",
   "metadata": {},
   "source": [
    "**Регион 0**"
   ]
  },
  {
   "cell_type": "code",
   "execution_count": 17,
   "metadata": {},
   "outputs": [
    {
     "name": "stdout",
     "output_type": "stream",
     "text": [
      "Средняя прибыль: 425 938 527\n",
      "2.5%-квантиль: -102 090 095\n"
     ]
    }
   ],
   "source": [
    "lower_zero, upper_zero, values_zero = \\\n",
    "    bootstrap(zero_valid['target'], zero_valid['predicted'])\n",
    "\n",
    "scores.loc['df_zero', ['2.5%', '97.5%']] = lower_zero, upper_zero"
   ]
  },
  {
   "cell_type": "markdown",
   "metadata": {},
   "source": [
    "**Регион 1**"
   ]
  },
  {
   "cell_type": "code",
   "execution_count": 18,
   "metadata": {},
   "outputs": [
    {
     "name": "stdout",
     "output_type": "stream",
     "text": [
      "Средняя прибыль: 515 222 773\n",
      "2.5%-квантиль: 68 873 225\n"
     ]
    }
   ],
   "source": [
    "lower_one, upper_one, values_one = \\\n",
    "    bootstrap(one_valid['target'], one_valid['predicted'])\n",
    "\n",
    "scores.loc['df_one', ['2.5%', '97.5%']] = lower_one, upper_one"
   ]
  },
  {
   "cell_type": "markdown",
   "metadata": {},
   "source": [
    "**Регион 2**"
   ]
  },
  {
   "cell_type": "code",
   "execution_count": 19,
   "metadata": {},
   "outputs": [
    {
     "name": "stdout",
     "output_type": "stream",
     "text": [
      "Средняя прибыль: 435 008 363\n",
      "2.5%-квантиль: -128 880 547\n"
     ]
    }
   ],
   "source": [
    "lower_two, upper_two, values_two = \\\n",
    "    bootstrap(two_valid['target'], two_valid['predicted'])\n",
    "\n",
    "scores.loc['df_two', ['2.5%', '97.5%']] = lower_two, upper_two"
   ]
  },
  {
   "cell_type": "code",
   "execution_count": 20,
   "metadata": {},
   "outputs": [],
   "source": [
    "def get_histograms(bins_num=100, lower_zero=lower_zero,\n",
    "                   lower_one=lower_one, lower_two=lower_two):\n",
    "    plt.figure(figsize=(15, 8))\n",
    "    \n",
    "    ax1 = sns.histplot(values_zero, color='purple', edgecolor='white',\n",
    "                       label='  нулевой регион',\n",
    "                       alpha=.1, bins=bins_num, kde=True)\n",
    "    mean = values_zero.mean()\n",
    "\n",
    "    ax1.axvline(x=lower_zero, c='green', ls='--',\n",
    "                label=f'  2.5%-квантиль: {lower_zero:,.0f}'.replace(',', ' '))\n",
    "    ax1.axvline(x=mean, c='green',\n",
    "                label=f'\\n  среднее: {mean:,.0f}\\n'.replace(',', ' '))\n",
    "\n",
    "    ax2 = sns.histplot(values_two, color='sandybrown', bins=100, alpha=.3,\n",
    "                       edgecolor='white', label='  второй регион', kde=True)\n",
    "    mean = values_two.mean()\n",
    "    ax2.axvline(x=lower_two, c='r', ls='--',\n",
    "                label=f'  2.5%-квантиль: {lower_two:,.0f}'.replace(',', ' '))\n",
    "    ax2.axvline(x=mean, c='r',\n",
    "                label=f'\\n  среднее: {mean:,.0f}\\n'.replace(',', ' '))\n",
    "\n",
    "    ax3 = sns.histplot(values_one, edgecolor='white',\n",
    "                       label='  первый регион',\n",
    "                       alpha=.4, bins=bins_num, kde=True)\n",
    "    median = values_one.median()\n",
    "    mean = values_one.mean()\n",
    "    ax3.axvline(x=lower_one, c='black', ls='--',\n",
    "                label=f'  2.5%-квантиль: {lower_one:,.0f}'.replace(',', ' '))\n",
    "    ax3.axvline(x=mean, c='black',\n",
    "                label=f'\\n  среднее: {mean:,.0f}\\n'.replace(',', ' '))\n",
    "\n",
    "    risk_prob_two = (values_two < 0).mean() * 100\n",
    "    risk_prob_zero = (values_zero < 0).mean() * 100\n",
    "    risk_prob_one = (values_one < 0).mean() * 100\n",
    "    probs = [risk_prob_zero, risk_prob_two, risk_prob_one]\n",
    "\n",
    "    strings = ['  Нулевой регион', '  Второй регион',\n",
    "               '  Первый регион', 'Распределения']\n",
    "    handles, _ = plt.gca().get_legend_handles_labels()\n",
    "    for extra_string, num in zip(strings, (0, 3, 6, 9)):\n",
    "        handles.insert(num, mpatches.Patch(color='none', label=extra_string))\n",
    "    handles.insert(0, mpatches.Patch(color='none', label='Прибыль'))\n",
    "    \n",
    "    for prob, num in zip(probs, (2, 6, 10)):\n",
    "        handles.insert(\n",
    "            num, mpatches.Patch(\n",
    "                color='none',\n",
    "                label=f'  вероятность убытка: {prob:.2f}%\\n'\n",
    "            )\n",
    "        )\n",
    "\n",
    "    plt.legend(handles=handles, loc='upper right')\n",
    "    plt.ylabel('Количество')\n",
    "    plt.xlabel('Прибыль (миллиарды)')\n",
    "    plt.title(f'Распределения прибылей (валидационная выборка)')\n",
    "    plt.grid(True, alpha=.3)"
   ]
  },
  {
   "cell_type": "code",
   "execution_count": 21,
   "metadata": {},
   "outputs": [
    {
     "data": {
      "text/html": [
       "<div>\n",
       "<style scoped>\n",
       "    .dataframe tbody tr th:only-of-type {\n",
       "        vertical-align: middle;\n",
       "    }\n",
       "\n",
       "    .dataframe tbody tr th {\n",
       "        vertical-align: top;\n",
       "    }\n",
       "\n",
       "    .dataframe thead th {\n",
       "        text-align: right;\n",
       "    }\n",
       "</style>\n",
       "<table border=\"1\" class=\"dataframe\">\n",
       "  <thead>\n",
       "    <tr style=\"text-align: right;\">\n",
       "      <th></th>\n",
       "      <th>mae</th>\n",
       "      <th>rmse</th>\n",
       "      <th>r2</th>\n",
       "      <th>target_mean</th>\n",
       "      <th>predicted_mean</th>\n",
       "      <th>2.5%</th>\n",
       "      <th>97.5%</th>\n",
       "    </tr>\n",
       "  </thead>\n",
       "  <tbody>\n",
       "    <tr>\n",
       "      <th>df_zero</th>\n",
       "      <td>31.038538</td>\n",
       "      <td>37.693547</td>\n",
       "      <td>0.275597</td>\n",
       "      <td>92.078597</td>\n",
       "      <td>92.592568</td>\n",
       "      <td>-1.020901e+08</td>\n",
       "      <td>9.479764e+08</td>\n",
       "    </tr>\n",
       "    <tr>\n",
       "      <th>df_one</th>\n",
       "      <td>0.717419</td>\n",
       "      <td>0.890411</td>\n",
       "      <td>0.999624</td>\n",
       "      <td>68.723136</td>\n",
       "      <td>68.728547</td>\n",
       "      <td>6.887323e+07</td>\n",
       "      <td>9.315476e+08</td>\n",
       "    </tr>\n",
       "    <tr>\n",
       "      <th>df_two</th>\n",
       "      <td>32.822028</td>\n",
       "      <td>40.057170</td>\n",
       "      <td>0.198676</td>\n",
       "      <td>94.884233</td>\n",
       "      <td>94.965046</td>\n",
       "      <td>-1.288805e+08</td>\n",
       "      <td>9.697070e+08</td>\n",
       "    </tr>\n",
       "  </tbody>\n",
       "</table>\n",
       "</div>"
      ],
      "text/plain": [
       "               mae       rmse        r2  target_mean  predicted_mean  \\\n",
       "df_zero  31.038538  37.693547  0.275597    92.078597       92.592568   \n",
       "df_one    0.717419   0.890411  0.999624    68.723136       68.728547   \n",
       "df_two   32.822028  40.057170  0.198676    94.884233       94.965046   \n",
       "\n",
       "                 2.5%         97.5%  \n",
       "df_zero -1.020901e+08  9.479764e+08  \n",
       "df_one   6.887323e+07  9.315476e+08  \n",
       "df_two  -1.288805e+08  9.697070e+08  "
      ]
     },
     "execution_count": 21,
     "metadata": {},
     "output_type": "execute_result"
    },
    {
     "data": {
      "image/png": "[encoded data removed]",
      "text/plain": [
       "<Figure size 1500x800 with 1 Axes>"
      ]
     },
     "metadata": {},
     "output_type": "display_data"
    }
   ],
   "source": [
    "get_histograms()\n",
    "scores"
   ]
  },
  {
   "cell_type": "markdown",
   "metadata": {},
   "source": [
    "**Вывод:**  \n",
    "- наименьший разброс значений у распределения первого региона;  \n",
    "- в первом регионе наименьший риск получить убыток и наибольшая средняя прибыль."
   ]
  },
  {
   "cell_type": "markdown",
   "metadata": {},
   "source": [
    "## Общий вывод"
   ]
  },
  {
   "cell_type": "markdown",
   "metadata": {},
   "source": [
    "**Описание данных**  \n",
    "Данные геологоразведки трёх регионов:  \n",
    "`id` — уникальный идентификатор скважины;  \n",
    "`f0`, `f1`, `f2` — три признака точек (неважно, что они означают, но сами признаки значимы);  \n",
    "`product` — объём запасов в скважине (тыс. баррелей).  \n",
    "\n",
    "**Загрузка и подготовка данных:**  \n",
    "- явные дубликаты, пропуски и выбросы в загруженных наборах данных отсутствуют;\n",
    "- неинформативный признак удалён.  \n",
    "\n",
    "**Исходя из полученных результатов следует:**  \n",
    "- средние запасы сырья в нулевом и втором регионе значительно выше, чем в первом;  \n",
    "- модель линейной регрессии наиболее точные предсказания даёт для первого региона;  \n",
    "- для разработки скважин можно рекомендовать первый регион: наименьший риск получить убыток (1%)  \n",
    "    и наибольшая средняя прибыль (515 млн)."
   ]
  }
 ],
 "metadata": {
  "ExecuteTimeLog": [
   {
    "duration": 1920,
    "start_time": "2023-07-29T07:06:13.196Z"
   },
   {
    "duration": 3,
    "start_time": "2023-07-29T07:06:15.120Z"
   },
   {
    "duration": 926,
    "start_time": "2023-07-29T07:06:15.125Z"
   },
   {
    "duration": 101,
    "start_time": "2023-07-29T07:06:16.054Z"
   },
   {
    "duration": 12273,
    "start_time": "2023-07-29T07:06:16.158Z"
   },
   {
    "duration": 179,
    "start_time": "2023-07-29T07:06:28.433Z"
   },
   {
    "duration": 4,
    "start_time": "2023-07-29T07:06:28.614Z"
   },
   {
    "duration": 45,
    "start_time": "2023-07-29T07:06:28.620Z"
   },
   {
    "duration": 1035,
    "start_time": "2023-07-29T07:06:28.667Z"
   },
   {
    "duration": 10,
    "start_time": "2023-07-29T07:06:29.704Z"
   },
   {
    "duration": 1165,
    "start_time": "2023-07-29T07:06:29.716Z"
   },
   {
    "duration": 806,
    "start_time": "2023-07-29T07:06:30.886Z"
   },
   {
    "duration": 903,
    "start_time": "2023-07-29T07:06:31.771Z"
   },
   {
    "duration": 22,
    "start_time": "2023-07-29T07:06:32.680Z"
   },
   {
    "duration": 58,
    "start_time": "2023-07-29T07:06:32.704Z"
   },
   {
    "duration": 63,
    "start_time": "2023-07-29T07:06:32.764Z"
   },
   {
    "duration": 1503,
    "start_time": "2023-07-29T07:06:32.829Z"
   },
   {
    "duration": 1458,
    "start_time": "2023-07-29T07:06:34.333Z"
   },
   {
    "duration": 1513,
    "start_time": "2023-07-29T07:06:35.793Z"
   },
   {
    "duration": 10,
    "start_time": "2023-07-29T07:06:37.308Z"
   },
   {
    "duration": 1194,
    "start_time": "2023-07-29T07:06:37.319Z"
   },
   {
    "duration": 4,
    "start_time": "2023-07-29T07:13:12.122Z"
   },
   {
    "duration": 8,
    "start_time": "2023-07-29T07:13:12.127Z"
   },
   {
    "duration": 399,
    "start_time": "2023-07-29T07:13:12.137Z"
   },
   {
    "duration": 64,
    "start_time": "2023-07-29T07:13:12.538Z"
   },
   {
    "duration": 10961,
    "start_time": "2023-07-29T07:13:12.603Z"
   },
   {
    "duration": 156,
    "start_time": "2023-07-29T07:13:23.566Z"
   },
   {
    "duration": 3,
    "start_time": "2023-07-29T07:13:23.724Z"
   },
   {
    "duration": 26,
    "start_time": "2023-07-29T07:13:23.729Z"
   },
   {
    "duration": 892,
    "start_time": "2023-07-29T07:13:23.771Z"
   },
   {
    "duration": 10,
    "start_time": "2023-07-29T07:13:24.665Z"
   },
   {
    "duration": 621,
    "start_time": "2023-07-29T07:13:24.677Z"
   },
   {
    "duration": 799,
    "start_time": "2023-07-29T07:13:25.380Z"
   },
   {
    "duration": 703,
    "start_time": "2023-07-29T07:13:26.270Z"
   },
   {
    "duration": 16,
    "start_time": "2023-07-29T07:13:26.975Z"
   },
   {
    "duration": 98,
    "start_time": "2023-07-29T07:13:26.994Z"
   },
   {
    "duration": 5,
    "start_time": "2023-07-29T07:13:27.094Z"
   },
   {
    "duration": 1388,
    "start_time": "2023-07-29T07:13:27.100Z"
   },
   {
    "duration": 1459,
    "start_time": "2023-07-29T07:13:28.490Z"
   },
   {
    "duration": 1440,
    "start_time": "2023-07-29T07:13:29.951Z"
   },
   {
    "duration": 11,
    "start_time": "2023-07-29T07:13:31.393Z"
   },
   {
    "duration": 1448,
    "start_time": "2023-07-29T07:13:31.406Z"
   },
   {
    "duration": 3,
    "start_time": "2023-07-29T07:18:06.010Z"
   },
   {
    "duration": 14,
    "start_time": "2023-07-29T07:18:06.015Z"
   },
   {
    "duration": 418,
    "start_time": "2023-07-29T07:18:06.031Z"
   },
   {
    "duration": 67,
    "start_time": "2023-07-29T07:18:06.452Z"
   },
   {
    "duration": 11022,
    "start_time": "2023-07-29T07:18:06.521Z"
   },
   {
    "duration": 162,
    "start_time": "2023-07-29T07:18:17.544Z"
   },
   {
    "duration": 3,
    "start_time": "2023-07-29T07:18:17.708Z"
   },
   {
    "duration": 31,
    "start_time": "2023-07-29T07:18:17.713Z"
   },
   {
    "duration": 1087,
    "start_time": "2023-07-29T07:18:17.745Z"
   },
   {
    "duration": 10,
    "start_time": "2023-07-29T07:18:18.836Z"
   },
   {
    "duration": 1028,
    "start_time": "2023-07-29T07:18:18.848Z"
   },
   {
    "duration": 889,
    "start_time": "2023-07-29T07:18:19.886Z"
   },
   {
    "duration": 803,
    "start_time": "2023-07-29T07:18:20.777Z"
   },
   {
    "duration": 11,
    "start_time": "2023-07-29T07:18:21.583Z"
   },
   {
    "duration": 43,
    "start_time": "2023-07-29T07:18:21.596Z"
   },
   {
    "duration": 25,
    "start_time": "2023-07-29T07:18:21.641Z"
   },
   {
    "duration": 1515,
    "start_time": "2023-07-29T07:18:21.667Z"
   },
   {
    "duration": 1436,
    "start_time": "2023-07-29T07:18:23.184Z"
   },
   {
    "duration": 1475,
    "start_time": "2023-07-29T07:18:24.622Z"
   },
   {
    "duration": 11,
    "start_time": "2023-07-29T07:18:26.099Z"
   },
   {
    "duration": 1205,
    "start_time": "2023-07-29T07:18:26.111Z"
   },
   {
    "duration": 2112,
    "start_time": "2023-07-30T06:00:46.854Z"
   },
   {
    "duration": 3,
    "start_time": "2023-07-30T06:00:48.968Z"
   },
   {
    "duration": 812,
    "start_time": "2023-07-30T06:00:48.972Z"
   },
   {
    "duration": 73,
    "start_time": "2023-07-30T06:00:49.786Z"
   },
   {
    "duration": 11906,
    "start_time": "2023-07-30T06:00:49.861Z"
   },
   {
    "duration": 174,
    "start_time": "2023-07-30T06:01:01.769Z"
   },
   {
    "duration": 4,
    "start_time": "2023-07-30T06:01:01.945Z"
   },
   {
    "duration": 66,
    "start_time": "2023-07-30T06:01:01.951Z"
   },
   {
    "duration": 1023,
    "start_time": "2023-07-30T06:01:02.019Z"
   },
   {
    "duration": 7,
    "start_time": "2023-07-30T06:01:03.044Z"
   },
   {
    "duration": 939,
    "start_time": "2023-07-30T06:01:03.053Z"
   },
   {
    "duration": 818,
    "start_time": "2023-07-30T06:01:03.996Z"
   },
   {
    "duration": 706,
    "start_time": "2023-07-30T06:01:04.888Z"
   },
   {
    "duration": 93,
    "start_time": "2023-07-30T06:01:05.596Z"
   },
   {
    "duration": 8,
    "start_time": "2023-07-30T06:01:05.692Z"
   },
   {
    "duration": 12,
    "start_time": "2023-07-30T06:01:05.702Z"
   },
   {
    "duration": 1489,
    "start_time": "2023-07-30T06:01:05.716Z"
   },
   {
    "duration": 1460,
    "start_time": "2023-07-30T06:01:07.208Z"
   },
   {
    "duration": 1482,
    "start_time": "2023-07-30T06:01:08.670Z"
   },
   {
    "duration": 11,
    "start_time": "2023-07-30T06:01:10.154Z"
   },
   {
    "duration": 1257,
    "start_time": "2023-07-30T06:01:10.167Z"
   },
   {
    "duration": 1693,
    "start_time": "2023-07-30T10:09:25.494Z"
   },
   {
    "duration": 4,
    "start_time": "2023-07-30T10:09:27.189Z"
   },
   {
    "duration": 1716,
    "start_time": "2023-07-30T10:09:27.195Z"
   },
   {
    "duration": 74,
    "start_time": "2023-07-30T10:09:28.913Z"
   },
   {
    "duration": 1695,
    "start_time": "2023-07-30T10:09:28.989Z"
   },
   {
    "duration": 0,
    "start_time": "2023-07-30T10:09:30.686Z"
   },
   {
    "duration": 0,
    "start_time": "2023-07-30T10:09:30.688Z"
   },
   {
    "duration": 0,
    "start_time": "2023-07-30T10:09:30.689Z"
   },
   {
    "duration": 0,
    "start_time": "2023-07-30T10:09:30.691Z"
   },
   {
    "duration": 0,
    "start_time": "2023-07-30T10:09:30.692Z"
   },
   {
    "duration": 0,
    "start_time": "2023-07-30T10:09:30.693Z"
   },
   {
    "duration": 0,
    "start_time": "2023-07-30T10:09:30.694Z"
   },
   {
    "duration": 0,
    "start_time": "2023-07-30T10:09:30.695Z"
   },
   {
    "duration": 0,
    "start_time": "2023-07-30T10:09:30.697Z"
   },
   {
    "duration": 0,
    "start_time": "2023-07-30T10:09:30.698Z"
   },
   {
    "duration": 0,
    "start_time": "2023-07-30T10:09:30.698Z"
   },
   {
    "duration": 0,
    "start_time": "2023-07-30T10:09:30.699Z"
   },
   {
    "duration": 0,
    "start_time": "2023-07-30T10:09:30.700Z"
   },
   {
    "duration": 0,
    "start_time": "2023-07-30T10:09:30.701Z"
   },
   {
    "duration": 0,
    "start_time": "2023-07-30T10:09:30.702Z"
   },
   {
    "duration": 0,
    "start_time": "2023-07-30T10:09:30.703Z"
   },
   {
    "duration": 11901,
    "start_time": "2023-07-30T10:10:33.771Z"
   },
   {
    "duration": 402,
    "start_time": "2023-07-30T10:16:02.912Z"
   },
   {
    "duration": 85,
    "start_time": "2023-07-30T10:16:04.202Z"
   },
   {
    "duration": 11410,
    "start_time": "2023-07-30T10:16:09.601Z"
   },
   {
    "duration": 11401,
    "start_time": "2023-07-30T10:18:10.673Z"
   },
   {
    "duration": 4,
    "start_time": "2023-07-30T10:18:58.719Z"
   },
   {
    "duration": 5,
    "start_time": "2023-07-30T10:18:58.725Z"
   },
   {
    "duration": 399,
    "start_time": "2023-07-30T10:18:58.732Z"
   },
   {
    "duration": 80,
    "start_time": "2023-07-30T10:18:59.133Z"
   },
   {
    "duration": 12109,
    "start_time": "2023-07-30T10:18:59.216Z"
   },
   {
    "duration": 203,
    "start_time": "2023-07-30T10:19:11.327Z"
   },
   {
    "duration": 3,
    "start_time": "2023-07-30T10:19:11.532Z"
   },
   {
    "duration": 44,
    "start_time": "2023-07-30T10:19:11.537Z"
   },
   {
    "duration": 1048,
    "start_time": "2023-07-30T10:19:11.583Z"
   },
   {
    "duration": 8,
    "start_time": "2023-07-30T10:19:12.634Z"
   },
   {
    "duration": 1018,
    "start_time": "2023-07-30T10:19:12.644Z"
   },
   {
    "duration": 793,
    "start_time": "2023-07-30T10:19:13.666Z"
   },
   {
    "duration": 911,
    "start_time": "2023-07-30T10:19:14.461Z"
   },
   {
    "duration": 16,
    "start_time": "2023-07-30T10:19:15.377Z"
   },
   {
    "duration": 18,
    "start_time": "2023-07-30T10:19:15.396Z"
   },
   {
    "duration": 10,
    "start_time": "2023-07-30T10:19:15.458Z"
   },
   {
    "duration": 1517,
    "start_time": "2023-07-30T10:19:15.471Z"
   },
   {
    "duration": 1489,
    "start_time": "2023-07-30T10:19:16.990Z"
   },
   {
    "duration": 1468,
    "start_time": "2023-07-30T10:19:18.480Z"
   },
   {
    "duration": 23,
    "start_time": "2023-07-30T10:19:19.951Z"
   },
   {
    "duration": 1625,
    "start_time": "2023-07-30T10:19:19.976Z"
   },
   {
    "duration": 4,
    "start_time": "2023-07-30T10:21:27.984Z"
   },
   {
    "duration": 398,
    "start_time": "2023-07-30T10:21:28.976Z"
   },
   {
    "duration": 75,
    "start_time": "2023-07-30T10:21:30.384Z"
   },
   {
    "duration": 10850,
    "start_time": "2023-07-30T10:21:33.000Z"
   },
   {
    "duration": 11333,
    "start_time": "2023-07-30T10:22:17.940Z"
   },
   {
    "duration": 12309,
    "start_time": "2023-07-30T10:22:39.247Z"
   },
   {
    "duration": 11514,
    "start_time": "2023-07-30T10:22:59.452Z"
   },
   {
    "duration": 11033,
    "start_time": "2023-07-30T10:23:17.486Z"
   },
   {
    "duration": 3,
    "start_time": "2023-07-30T10:23:45.222Z"
   },
   {
    "duration": 6,
    "start_time": "2023-07-30T10:23:45.227Z"
   },
   {
    "duration": 392,
    "start_time": "2023-07-30T10:23:45.235Z"
   },
   {
    "duration": 72,
    "start_time": "2023-07-30T10:23:45.629Z"
   },
   {
    "duration": 11452,
    "start_time": "2023-07-30T10:23:45.702Z"
   },
   {
    "duration": 186,
    "start_time": "2023-07-30T10:23:57.158Z"
   },
   {
    "duration": 15,
    "start_time": "2023-07-30T10:23:57.345Z"
   },
   {
    "duration": 27,
    "start_time": "2023-07-30T10:23:57.362Z"
   },
   {
    "duration": 1098,
    "start_time": "2023-07-30T10:23:57.390Z"
   },
   {
    "duration": 6,
    "start_time": "2023-07-30T10:23:58.490Z"
   },
   {
    "duration": 573,
    "start_time": "2023-07-30T10:23:58.498Z"
   },
   {
    "duration": 715,
    "start_time": "2023-07-30T10:23:59.159Z"
   },
   {
    "duration": 802,
    "start_time": "2023-07-30T10:23:59.960Z"
   },
   {
    "duration": 18,
    "start_time": "2023-07-30T10:24:00.765Z"
   },
   {
    "duration": 31,
    "start_time": "2023-07-30T10:24:00.786Z"
   },
   {
    "duration": 57,
    "start_time": "2023-07-30T10:24:00.820Z"
   },
   {
    "duration": 1624,
    "start_time": "2023-07-30T10:24:00.880Z"
   },
   {
    "duration": 1477,
    "start_time": "2023-07-30T10:24:02.506Z"
   },
   {
    "duration": 1557,
    "start_time": "2023-07-30T10:24:03.985Z"
   },
   {
    "duration": 23,
    "start_time": "2023-07-30T10:24:05.544Z"
   },
   {
    "duration": 1230,
    "start_time": "2023-07-30T10:24:05.568Z"
   },
   {
    "duration": 5,
    "start_time": "2023-07-30T10:41:51.305Z"
   },
   {
    "duration": 48,
    "start_time": "2023-07-30T10:41:51.312Z"
   },
   {
    "duration": 421,
    "start_time": "2023-07-30T10:41:51.363Z"
   },
   {
    "duration": 79,
    "start_time": "2023-07-30T10:41:51.786Z"
   },
   {
    "duration": 11772,
    "start_time": "2023-07-30T10:41:51.868Z"
   },
   {
    "duration": 195,
    "start_time": "2023-07-30T10:42:03.642Z"
   },
   {
    "duration": 4,
    "start_time": "2023-07-30T10:42:03.839Z"
   },
   {
    "duration": 41,
    "start_time": "2023-07-30T10:42:03.844Z"
   },
   {
    "duration": 1196,
    "start_time": "2023-07-30T10:42:03.887Z"
   },
   {
    "duration": 8,
    "start_time": "2023-07-30T10:42:05.084Z"
   },
   {
    "duration": 885,
    "start_time": "2023-07-30T10:42:05.094Z"
   },
   {
    "duration": 899,
    "start_time": "2023-07-30T10:42:06.060Z"
   },
   {
    "duration": 1000,
    "start_time": "2023-07-30T10:42:06.962Z"
   },
   {
    "duration": 96,
    "start_time": "2023-07-30T10:42:07.966Z"
   },
   {
    "duration": 12,
    "start_time": "2023-07-30T10:42:08.064Z"
   },
   {
    "duration": 12,
    "start_time": "2023-07-30T10:42:08.078Z"
   },
   {
    "duration": 1404,
    "start_time": "2023-07-30T10:42:08.091Z"
   },
   {
    "duration": 1381,
    "start_time": "2023-07-30T10:42:09.497Z"
   },
   {
    "duration": 1468,
    "start_time": "2023-07-30T10:42:10.880Z"
   },
   {
    "duration": 14,
    "start_time": "2023-07-30T10:42:12.350Z"
   },
   {
    "duration": 1585,
    "start_time": "2023-07-30T10:42:12.365Z"
   },
   {
    "duration": 4,
    "start_time": "2023-07-30T10:48:11.565Z"
   },
   {
    "duration": 5,
    "start_time": "2023-07-30T10:48:11.570Z"
   },
   {
    "duration": 356,
    "start_time": "2023-07-30T10:48:11.577Z"
   },
   {
    "duration": 72,
    "start_time": "2023-07-30T10:48:11.935Z"
   },
   {
    "duration": 11224,
    "start_time": "2023-07-30T10:48:12.010Z"
   },
   {
    "duration": 213,
    "start_time": "2023-07-30T10:48:23.236Z"
   },
   {
    "duration": 17,
    "start_time": "2023-07-30T10:48:23.451Z"
   },
   {
    "duration": 26,
    "start_time": "2023-07-30T10:48:23.474Z"
   },
   {
    "duration": 1348,
    "start_time": "2023-07-30T10:48:23.502Z"
   },
   {
    "duration": 16,
    "start_time": "2023-07-30T10:48:24.853Z"
   },
   {
    "duration": 689,
    "start_time": "2023-07-30T10:48:24.871Z"
   },
   {
    "duration": 896,
    "start_time": "2023-07-30T10:48:25.566Z"
   },
   {
    "duration": 995,
    "start_time": "2023-07-30T10:48:26.466Z"
   },
   {
    "duration": 16,
    "start_time": "2023-07-30T10:48:27.465Z"
   },
   {
    "duration": 12,
    "start_time": "2023-07-30T10:48:27.483Z"
   },
   {
    "duration": 8,
    "start_time": "2023-07-30T10:48:27.497Z"
   },
   {
    "duration": 1575,
    "start_time": "2023-07-30T10:48:27.507Z"
   },
   {
    "duration": 1549,
    "start_time": "2023-07-30T10:48:29.085Z"
   },
   {
    "duration": 1561,
    "start_time": "2023-07-30T10:48:30.636Z"
   },
   {
    "duration": 12,
    "start_time": "2023-07-30T10:48:32.199Z"
   },
   {
    "duration": 1318,
    "start_time": "2023-07-30T10:48:32.213Z"
   },
   {
    "duration": 15,
    "start_time": "2023-07-30T10:54:14.072Z"
   },
   {
    "duration": 1373,
    "start_time": "2023-07-30T10:54:17.168Z"
   },
   {
    "duration": 3,
    "start_time": "2023-07-30T10:56:07.903Z"
   },
   {
    "duration": 7,
    "start_time": "2023-07-30T10:56:07.909Z"
   },
   {
    "duration": 358,
    "start_time": "2023-07-30T10:56:07.917Z"
   },
   {
    "duration": 61,
    "start_time": "2023-07-30T10:56:08.278Z"
   },
   {
    "duration": 10321,
    "start_time": "2023-07-30T10:56:08.360Z"
   },
   {
    "duration": 201,
    "start_time": "2023-07-30T10:56:18.684Z"
   },
   {
    "duration": 3,
    "start_time": "2023-07-30T10:56:18.887Z"
   },
   {
    "duration": 49,
    "start_time": "2023-07-30T10:56:18.892Z"
   },
   {
    "duration": 1047,
    "start_time": "2023-07-30T10:56:18.943Z"
   },
   {
    "duration": 8,
    "start_time": "2023-07-30T10:56:19.993Z"
   },
   {
    "duration": 958,
    "start_time": "2023-07-30T10:56:20.003Z"
   },
   {
    "duration": 902,
    "start_time": "2023-07-30T10:56:20.963Z"
   },
   {
    "duration": 1001,
    "start_time": "2023-07-30T10:56:21.866Z"
   },
   {
    "duration": 11,
    "start_time": "2023-07-30T10:56:22.959Z"
   },
   {
    "duration": 15,
    "start_time": "2023-07-30T10:56:22.971Z"
   },
   {
    "duration": 15,
    "start_time": "2023-07-30T10:56:22.987Z"
   },
   {
    "duration": 1449,
    "start_time": "2023-07-30T10:56:23.003Z"
   },
   {
    "duration": 1396,
    "start_time": "2023-07-30T10:56:24.454Z"
   },
   {
    "duration": 1406,
    "start_time": "2023-07-30T10:56:25.853Z"
   },
   {
    "duration": 10,
    "start_time": "2023-07-30T10:56:27.261Z"
   },
   {
    "duration": 1409,
    "start_time": "2023-07-30T10:56:27.273Z"
   },
   {
    "duration": 1873,
    "start_time": "2023-07-31T05:33:16.474Z"
   },
   {
    "duration": 4,
    "start_time": "2023-07-31T05:33:18.350Z"
   },
   {
    "duration": 924,
    "start_time": "2023-07-31T05:33:18.355Z"
   },
   {
    "duration": 73,
    "start_time": "2023-07-31T05:33:19.281Z"
   },
   {
    "duration": 10992,
    "start_time": "2023-07-31T05:33:19.355Z"
   },
   {
    "duration": 172,
    "start_time": "2023-07-31T05:33:30.350Z"
   },
   {
    "duration": 14,
    "start_time": "2023-07-31T05:33:30.530Z"
   },
   {
    "duration": 96,
    "start_time": "2023-07-31T05:33:30.546Z"
   },
   {
    "duration": 968,
    "start_time": "2023-07-31T05:33:30.647Z"
   },
   {
    "duration": 8,
    "start_time": "2023-07-31T05:33:31.618Z"
   },
   {
    "duration": 1000,
    "start_time": "2023-07-31T05:33:31.630Z"
   },
   {
    "duration": 705,
    "start_time": "2023-07-31T05:33:32.636Z"
   },
   {
    "duration": 809,
    "start_time": "2023-07-31T05:33:33.343Z"
   },
   {
    "duration": 82,
    "start_time": "2023-07-31T05:33:34.159Z"
   },
   {
    "duration": 13,
    "start_time": "2023-07-31T05:33:34.243Z"
   },
   {
    "duration": 8,
    "start_time": "2023-07-31T05:33:34.258Z"
   },
   {
    "duration": 1331,
    "start_time": "2023-07-31T05:33:34.268Z"
   },
   {
    "duration": 1153,
    "start_time": "2023-07-31T05:33:35.600Z"
   },
   {
    "duration": 1179,
    "start_time": "2023-07-31T05:33:36.755Z"
   },
   {
    "duration": 14,
    "start_time": "2023-07-31T05:33:37.935Z"
   },
   {
    "duration": 1069,
    "start_time": "2023-07-31T05:33:37.951Z"
   }
  ],
  "kernelspec": {
   "display_name": "Python 3 (ipykernel)",
   "language": "python",
   "name": "python3"
  },
  "language_info": {
   "codemirror_mode": {
    "name": "ipython",
    "version": 3
   },
   "file_extension": ".py",
   "mimetype": "text/x-python",
   "name": "python",
   "nbconvert_exporter": "python",
   "pygments_lexer": "ipython3",
   "version": "3.9.19"
  },
  "toc": {
   "base_numbering": 1,
   "nav_menu": {},
   "number_sections": true,
   "sideBar": true,
   "skip_h1_title": true,
   "title_cell": "Содержание",
   "title_sidebar": "Contents",
   "toc_cell": true,
   "toc_position": {},
   "toc_section_display": true,
   "toc_window_display": false
  }
 },
 "nbformat": 4,
 "nbformat_minor": 4
}
